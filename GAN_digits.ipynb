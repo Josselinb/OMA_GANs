{
  "nbformat": 4,
  "nbformat_minor": 0,
  "metadata": {
    "colab": {
      "name": "GAN digits ",
      "version": "0.3.2",
      "provenance": [],
      "collapsed_sections": []
    },
    "kernelspec": {
      "name": "python3",
      "display_name": "Python 3"
    }
  },
  "cells": [
    {
      "metadata": {
        "id": "QhFhAZhLl4GP",
        "colab_type": "code",
        "outputId": "8d2a3312-72ad-415f-a754-4fc0a9d2775a",
        "colab": {
          "base_uri": "https://localhost:8080/",
          "height": 34
        }
      },
      "cell_type": "code",
      "source": [
        "'''https://towardsdatascience.com/gan-by-example-using-keras-on-tensorflow-backend-1a6d515a60d0'''"
      ],
      "execution_count": 0,
      "outputs": [
        {
          "output_type": "execute_result",
          "data": {
            "text/plain": [
              "'https://towardsdatascience.com/gan-by-example-using-keras-on-tensorflow-backend-1a6d515a60d0'"
            ]
          },
          "metadata": {
            "tags": []
          },
          "execution_count": 6
        }
      ]
    },
    {
      "metadata": {
        "id": "9AdGd6k4o5SN",
        "colab_type": "code",
        "colab": {}
      },
      "cell_type": "code",
      "source": [
        "import keras\n",
        "from keras.models import Sequential\n",
        "from keras.layers import Conv2D, Dropout, Flatten, Dense, Activation, LeakyReLU\n",
        "from keras.layers import BatchNormalization, Reshape, UpSampling2D, Conv2DTranspose"
      ],
      "execution_count": 0,
      "outputs": []
    },
    {
      "metadata": {
        "id": "alP4EwPoo-Fp",
        "colab_type": "code",
        "colab": {}
      },
      "cell_type": "code",
      "source": [
        "class GAN():\n",
        "  \n",
        "  def __init__(self, input_shape):\n",
        "    self.D = Sequential()\n",
        "    self.construct_discriminator(input_shape)\n",
        "    self.G = Sequential()\n",
        "    self.construct_generator()\n",
        "    \n",
        "  def construct_discriminator(self,input_shape):  \n",
        "    depth = 64\n",
        "    dropout = 0.4\n",
        "    # In: 28 x 28 x 1, depth = 1\n",
        "    # Out: 14 x 14 x 1, depth=64\n",
        "    #input_shape = (self.img_rows, self.img_cols, self.channel)\n",
        "    self.D.add(Conv2D(depth*1, 5, strides=2, input_shape=input_shape,\\\n",
        "    padding='same', activation=LeakyReLU(alpha=0.2)))\n",
        "    self.D.add(Dropout(dropout))\n",
        "    self.D.add(Conv2D(depth*2, 5, strides=2, padding='same',\\\n",
        "    activation=LeakyReLU(alpha=0.2)))\n",
        "    self.D.add(Dropout(dropout))\n",
        "    self.D.add(Conv2D(depth*4, 5, strides=2, padding='same',\\\n",
        "    activation=LeakyReLU(alpha=0.2)))\n",
        "    self.D.add(Dropout(dropout))\n",
        "    self.D.add(Conv2D(depth*8, 5, strides=1, padding='same',\\\n",
        "    activation=LeakyReLU(alpha=0.2)))\n",
        "    self.D.add(Dropout(dropout))\n",
        "    # Out: 1-dim probability\n",
        "    self.D.add(Flatten())\n",
        "    self.D.add(Dense(1))\n",
        "    self.D.add(Activation('sigmoid'))\n",
        "    \n",
        "  def construct_generator(self):\n",
        "    dropout = 0.4\n",
        "    depth = 64+64+64+64\n",
        "    dim = 7\n",
        "    # In: 100\n",
        "    # Out: dim x dim x depth\n",
        "    self.G.add(Dense(dim*dim*depth, input_dim=100))\n",
        "    self.G.add(BatchNormalization(momentum=0.9))\n",
        "    self.G.add(Activation('relu'))\n",
        "    self.G.add(Reshape((dim, dim, depth)))\n",
        "    self.G.add(Dropout(dropout))\n",
        "    # In: dim x dim x depth\n",
        "    # Out: 2*dim x 2*dim x depth/2\n",
        "    self.G.add(UpSampling2D())\n",
        "    self.G.add(Conv2DTranspose(int(depth/2), 5, padding='same'))\n",
        "    self.G.add(BatchNormalization(momentum=0.9))\n",
        "    self.G.add(Activation('relu'))\n",
        "    self.G.add(UpSampling2D())\n",
        "    self.G.add(Conv2DTranspose(int(depth/4), 5, padding='same'))\n",
        "    self.G.add(BatchNormalization(momentum=0.9))\n",
        "    self.G.add(Activation('relu'))\n",
        "    self.G.add(Conv2DTranspose(int(depth/8), 5, padding='same'))\n",
        "    self.G.add(BatchNormalization(momentum=0.9))\n",
        "    self.G.add(Activation('relu'))\n",
        "    # Out: 28 x 28 x 1 grayscale image [0.0,1.0] per pix\n",
        "    self.G.add(Conv2DTranspose(1, 5, padding='same'))\n",
        "    self.G.add(Activation('sigmoid'))\n",
        "    \n",
        "    \n",
        "  def summary(self):\n",
        "    print(\"Discriminator: \")\n",
        "    self.D.summary()\n",
        "    print(\"Generator: \")\n",
        "    self.G.summary()\n",
        "    "
      ],
      "execution_count": 0,
      "outputs": []
    },
    {
      "metadata": {
        "id": "n1hUQHuLp0pr",
        "colab_type": "code",
        "outputId": "4a7c7354-f63d-4977-e556-159f62eeabe6",
        "colab": {
          "base_uri": "https://localhost:8080/",
          "height": 1314
        }
      },
      "cell_type": "code",
      "source": [
        "nn1 = GAN((28,28,1))\n",
        "nn1.summary()"
      ],
      "execution_count": 0,
      "outputs": [
        {
          "output_type": "stream",
          "text": [
            "/usr/local/lib/python3.6/dist-packages/keras/activations.py:211: UserWarning: Do not pass a layer instance (such as LeakyReLU) as the activation argument of another layer. Instead, advanced activation layers should be used just like any other layer in a model.\n",
            "  identifier=identifier.__class__.__name__))\n"
          ],
          "name": "stderr"
        },
        {
          "output_type": "stream",
          "text": [
            "Discriminator: \n",
            "_________________________________________________________________\n",
            "Layer (type)                 Output Shape              Param #   \n",
            "=================================================================\n",
            "conv2d_17 (Conv2D)           (None, 14, 14, 64)        1664      \n",
            "_________________________________________________________________\n",
            "dropout_17 (Dropout)         (None, 14, 14, 64)        0         \n",
            "_________________________________________________________________\n",
            "conv2d_18 (Conv2D)           (None, 7, 7, 128)         204928    \n",
            "_________________________________________________________________\n",
            "dropout_18 (Dropout)         (None, 7, 7, 128)         0         \n",
            "_________________________________________________________________\n",
            "conv2d_19 (Conv2D)           (None, 4, 4, 256)         819456    \n",
            "_________________________________________________________________\n",
            "dropout_19 (Dropout)         (None, 4, 4, 256)         0         \n",
            "_________________________________________________________________\n",
            "conv2d_20 (Conv2D)           (None, 4, 4, 512)         3277312   \n",
            "_________________________________________________________________\n",
            "dropout_20 (Dropout)         (None, 4, 4, 512)         0         \n",
            "_________________________________________________________________\n",
            "flatten_5 (Flatten)          (None, 8192)              0         \n",
            "_________________________________________________________________\n",
            "dense_5 (Dense)              (None, 1)                 8193      \n",
            "_________________________________________________________________\n",
            "activation_5 (Activation)    (None, 1)                 0         \n",
            "=================================================================\n",
            "Total params: 4,311,553\n",
            "Trainable params: 4,311,553\n",
            "Non-trainable params: 0\n",
            "_________________________________________________________________\n",
            "Generator: \n",
            "_________________________________________________________________\n",
            "Layer (type)                 Output Shape              Param #   \n",
            "=================================================================\n",
            "dense_6 (Dense)              (None, 12544)             1266944   \n",
            "_________________________________________________________________\n",
            "batch_normalization_1 (Batch (None, 12544)             50176     \n",
            "_________________________________________________________________\n",
            "activation_6 (Activation)    (None, 12544)             0         \n",
            "_________________________________________________________________\n",
            "reshape_1 (Reshape)          (None, 7, 7, 256)         0         \n",
            "_________________________________________________________________\n",
            "dropout_21 (Dropout)         (None, 7, 7, 256)         0         \n",
            "_________________________________________________________________\n",
            "up_sampling2d_1 (UpSampling2 (None, 14, 14, 256)       0         \n",
            "_________________________________________________________________\n",
            "conv2d_transpose_1 (Conv2DTr (None, 14, 14, 128)       819328    \n",
            "_________________________________________________________________\n",
            "batch_normalization_2 (Batch (None, 14, 14, 128)       512       \n",
            "_________________________________________________________________\n",
            "activation_7 (Activation)    (None, 14, 14, 128)       0         \n",
            "_________________________________________________________________\n",
            "up_sampling2d_2 (UpSampling2 (None, 28, 28, 128)       0         \n",
            "_________________________________________________________________\n",
            "conv2d_transpose_2 (Conv2DTr (None, 28, 28, 64)        204864    \n",
            "_________________________________________________________________\n",
            "batch_normalization_3 (Batch (None, 28, 28, 64)        256       \n",
            "_________________________________________________________________\n",
            "activation_8 (Activation)    (None, 28, 28, 64)        0         \n",
            "_________________________________________________________________\n",
            "conv2d_transpose_3 (Conv2DTr (None, 28, 28, 32)        51232     \n",
            "_________________________________________________________________\n",
            "batch_normalization_4 (Batch (None, 28, 28, 32)        128       \n",
            "_________________________________________________________________\n",
            "activation_9 (Activation)    (None, 28, 28, 32)        0         \n",
            "_________________________________________________________________\n",
            "conv2d_transpose_4 (Conv2DTr (None, 28, 28, 1)         801       \n",
            "_________________________________________________________________\n",
            "activation_10 (Activation)   (None, 28, 28, 1)         0         \n",
            "=================================================================\n",
            "Total params: 2,394,241\n",
            "Trainable params: 2,368,705\n",
            "Non-trainable params: 25,536\n",
            "_________________________________________________________________\n"
          ],
          "name": "stdout"
        }
      ]
    },
    {
      "metadata": {
        "id": "gxXI2oaQrpsQ",
        "colab_type": "code",
        "colab": {}
      },
      "cell_type": "code",
      "source": [
        ""
      ],
      "execution_count": 0,
      "outputs": []
    }
  ]
}